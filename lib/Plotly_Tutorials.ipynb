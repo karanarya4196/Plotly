{
 "cells": [
  {
   "cell_type": "code",
   "execution_count": 2,
   "metadata": {},
   "outputs": [],
   "source": [
    "import plotly.offline as pyo\n",
    "import numpy as np\n",
    "import pandas as pd\n",
    "import matplotlib.pyplot as plt"
   ]
  },
  {
   "cell_type": "code",
   "execution_count": 3,
   "metadata": {},
   "outputs": [],
   "source": [
    "orders = pd.read_excel('../data/sales.xls')"
   ]
  },
  {
   "cell_type": "code",
   "execution_count": 4,
   "metadata": {
    "scrolled": true
   },
   "outputs": [
    {
     "data": {
      "text/html": [
       "<div>\n",
       "<style scoped>\n",
       "    .dataframe tbody tr th:only-of-type {\n",
       "        vertical-align: middle;\n",
       "    }\n",
       "\n",
       "    .dataframe tbody tr th {\n",
       "        vertical-align: top;\n",
       "    }\n",
       "\n",
       "    .dataframe thead th {\n",
       "        text-align: right;\n",
       "    }\n",
       "</style>\n",
       "<table border=\"1\" class=\"dataframe\">\n",
       "  <thead>\n",
       "    <tr style=\"text-align: right;\">\n",
       "      <th></th>\n",
       "      <th>Row ID</th>\n",
       "      <th>Order ID</th>\n",
       "      <th>Order Date</th>\n",
       "      <th>Order Priority</th>\n",
       "      <th>Order Quantity</th>\n",
       "      <th>Sales</th>\n",
       "      <th>Discount</th>\n",
       "      <th>Ship Mode</th>\n",
       "      <th>Profit</th>\n",
       "      <th>Unit Price</th>\n",
       "      <th>...</th>\n",
       "      <th>Customer Name</th>\n",
       "      <th>Province</th>\n",
       "      <th>Region</th>\n",
       "      <th>Customer Segment</th>\n",
       "      <th>Product Category</th>\n",
       "      <th>Product Sub-Category</th>\n",
       "      <th>Product Name</th>\n",
       "      <th>Product Container</th>\n",
       "      <th>Product Base Margin</th>\n",
       "      <th>Ship Date</th>\n",
       "    </tr>\n",
       "  </thead>\n",
       "  <tbody>\n",
       "    <tr>\n",
       "      <th>0</th>\n",
       "      <td>1</td>\n",
       "      <td>3</td>\n",
       "      <td>2010-10-13</td>\n",
       "      <td>Low</td>\n",
       "      <td>6</td>\n",
       "      <td>261.5400</td>\n",
       "      <td>0.04</td>\n",
       "      <td>Regular Air</td>\n",
       "      <td>-213.2500</td>\n",
       "      <td>38.94</td>\n",
       "      <td>...</td>\n",
       "      <td>Muhammed MacIntyre</td>\n",
       "      <td>Nunavut</td>\n",
       "      <td>Nunavut</td>\n",
       "      <td>Small Business</td>\n",
       "      <td>Office Supplies</td>\n",
       "      <td>Storage &amp; Organization</td>\n",
       "      <td>Eldon Base for stackable storage shelf, platinum</td>\n",
       "      <td>Large Box</td>\n",
       "      <td>0.80</td>\n",
       "      <td>2010-10-20</td>\n",
       "    </tr>\n",
       "    <tr>\n",
       "      <th>1</th>\n",
       "      <td>49</td>\n",
       "      <td>293</td>\n",
       "      <td>2012-10-01</td>\n",
       "      <td>High</td>\n",
       "      <td>49</td>\n",
       "      <td>10123.0200</td>\n",
       "      <td>0.07</td>\n",
       "      <td>Delivery Truck</td>\n",
       "      <td>457.8100</td>\n",
       "      <td>208.16</td>\n",
       "      <td>...</td>\n",
       "      <td>Barry French</td>\n",
       "      <td>Nunavut</td>\n",
       "      <td>Nunavut</td>\n",
       "      <td>Consumer</td>\n",
       "      <td>Office Supplies</td>\n",
       "      <td>Appliances</td>\n",
       "      <td>1.7 Cubic Foot Compact \"Cube\" Office Refrigera...</td>\n",
       "      <td>Jumbo Drum</td>\n",
       "      <td>0.58</td>\n",
       "      <td>2012-10-02</td>\n",
       "    </tr>\n",
       "    <tr>\n",
       "      <th>2</th>\n",
       "      <td>50</td>\n",
       "      <td>293</td>\n",
       "      <td>2012-10-01</td>\n",
       "      <td>High</td>\n",
       "      <td>27</td>\n",
       "      <td>244.5700</td>\n",
       "      <td>0.01</td>\n",
       "      <td>Regular Air</td>\n",
       "      <td>46.7075</td>\n",
       "      <td>8.69</td>\n",
       "      <td>...</td>\n",
       "      <td>Barry French</td>\n",
       "      <td>Nunavut</td>\n",
       "      <td>Nunavut</td>\n",
       "      <td>Consumer</td>\n",
       "      <td>Office Supplies</td>\n",
       "      <td>Binders and Binder Accessories</td>\n",
       "      <td>Cardinal Slant-D® Ring Binder, Heavy Gauge Vinyl</td>\n",
       "      <td>Small Box</td>\n",
       "      <td>0.39</td>\n",
       "      <td>2012-10-03</td>\n",
       "    </tr>\n",
       "    <tr>\n",
       "      <th>3</th>\n",
       "      <td>80</td>\n",
       "      <td>483</td>\n",
       "      <td>2011-07-10</td>\n",
       "      <td>High</td>\n",
       "      <td>30</td>\n",
       "      <td>4965.7595</td>\n",
       "      <td>0.08</td>\n",
       "      <td>Regular Air</td>\n",
       "      <td>1198.9710</td>\n",
       "      <td>195.99</td>\n",
       "      <td>...</td>\n",
       "      <td>Clay Rozendal</td>\n",
       "      <td>Nunavut</td>\n",
       "      <td>Nunavut</td>\n",
       "      <td>Corporate</td>\n",
       "      <td>Technology</td>\n",
       "      <td>Telephones and Communication</td>\n",
       "      <td>R380</td>\n",
       "      <td>Small Box</td>\n",
       "      <td>0.58</td>\n",
       "      <td>2011-07-12</td>\n",
       "    </tr>\n",
       "    <tr>\n",
       "      <th>4</th>\n",
       "      <td>85</td>\n",
       "      <td>515</td>\n",
       "      <td>2010-08-28</td>\n",
       "      <td>Not Specified</td>\n",
       "      <td>19</td>\n",
       "      <td>394.2700</td>\n",
       "      <td>0.08</td>\n",
       "      <td>Regular Air</td>\n",
       "      <td>30.9400</td>\n",
       "      <td>21.78</td>\n",
       "      <td>...</td>\n",
       "      <td>Carlos Soltero</td>\n",
       "      <td>Nunavut</td>\n",
       "      <td>Nunavut</td>\n",
       "      <td>Consumer</td>\n",
       "      <td>Office Supplies</td>\n",
       "      <td>Appliances</td>\n",
       "      <td>Holmes HEPA Air Purifier</td>\n",
       "      <td>Medium Box</td>\n",
       "      <td>0.50</td>\n",
       "      <td>2010-08-30</td>\n",
       "    </tr>\n",
       "  </tbody>\n",
       "</table>\n",
       "<p>5 rows × 21 columns</p>\n",
       "</div>"
      ],
      "text/plain": [
       "   Row ID  Order ID Order Date Order Priority  Order Quantity       Sales  \\\n",
       "0       1         3 2010-10-13            Low               6    261.5400   \n",
       "1      49       293 2012-10-01           High              49  10123.0200   \n",
       "2      50       293 2012-10-01           High              27    244.5700   \n",
       "3      80       483 2011-07-10           High              30   4965.7595   \n",
       "4      85       515 2010-08-28  Not Specified              19    394.2700   \n",
       "\n",
       "   Discount       Ship Mode     Profit  Unit Price  ...       Customer Name  \\\n",
       "0      0.04     Regular Air  -213.2500       38.94  ...  Muhammed MacIntyre   \n",
       "1      0.07  Delivery Truck   457.8100      208.16  ...        Barry French   \n",
       "2      0.01     Regular Air    46.7075        8.69  ...        Barry French   \n",
       "3      0.08     Regular Air  1198.9710      195.99  ...       Clay Rozendal   \n",
       "4      0.08     Regular Air    30.9400       21.78  ...      Carlos Soltero   \n",
       "\n",
       "  Province   Region Customer Segment Product Category  \\\n",
       "0  Nunavut  Nunavut   Small Business  Office Supplies   \n",
       "1  Nunavut  Nunavut         Consumer  Office Supplies   \n",
       "2  Nunavut  Nunavut         Consumer  Office Supplies   \n",
       "3  Nunavut  Nunavut        Corporate       Technology   \n",
       "4  Nunavut  Nunavut         Consumer  Office Supplies   \n",
       "\n",
       "             Product Sub-Category  \\\n",
       "0          Storage & Organization   \n",
       "1                      Appliances   \n",
       "2  Binders and Binder Accessories   \n",
       "3    Telephones and Communication   \n",
       "4                      Appliances   \n",
       "\n",
       "                                        Product Name Product Container  \\\n",
       "0   Eldon Base for stackable storage shelf, platinum         Large Box   \n",
       "1  1.7 Cubic Foot Compact \"Cube\" Office Refrigera...        Jumbo Drum   \n",
       "2   Cardinal Slant-D® Ring Binder, Heavy Gauge Vinyl         Small Box   \n",
       "3                                               R380         Small Box   \n",
       "4                           Holmes HEPA Air Purifier        Medium Box   \n",
       "\n",
       "  Product Base Margin  Ship Date  \n",
       "0                0.80 2010-10-20  \n",
       "1                0.58 2012-10-02  \n",
       "2                0.39 2012-10-03  \n",
       "3                0.58 2011-07-12  \n",
       "4                0.50 2010-08-30  \n",
       "\n",
       "[5 rows x 21 columns]"
      ]
     },
     "execution_count": 4,
     "metadata": {},
     "output_type": "execute_result"
    }
   ],
   "source": [
    "orders.head()"
   ]
  },
  {
   "cell_type": "markdown",
   "metadata": {},
   "source": [
    "# Matplotlib Plot"
   ]
  },
  {
   "cell_type": "code",
   "execution_count": 5,
   "metadata": {
    "scrolled": true
   },
   "outputs": [
    {
     "data": {
      "text/plain": [
       "[<matplotlib.lines.Line2D at 0x1f7d6eda8d0>]"
      ]
     },
     "execution_count": 5,
     "metadata": {},
     "output_type": "execute_result"
    },
    {
     "data": {
      "image/png": "[encoded data removed]",
      "text/plain": [
       "<Figure size 432x288 with 1 Axes>"
      ]
     },
     "metadata": {
      "needs_background": "light"
     },
     "output_type": "display_data"
    }
   ],
   "source": [
    " plt.plot(orders.Sales)"
   ]
  },
  {
   "cell_type": "markdown",
   "metadata": {},
   "source": [
    "# Plotly Plot"
   ]
  },
  {
   "cell_type": "code",
   "execution_count": 96,
   "metadata": {},
   "outputs": [
    {
     "name": "stderr",
     "output_type": "stream",
     "text": [
      "C:\\Users\\Karan.Arya\\AppData\\Local\\Continuum\\anaconda3\\envs\\py36\\lib\\site-packages\\plotly\\offline\\offline.py:635: UserWarning:\n",
      "\n",
      "Your filename `../output/plotly` didn't end with .html. Adding .html to the end of your file.\n",
      "\n"
     ]
    },
    {
     "data": {
      "text/plain": [
       "'file://C:\\\\Users\\\\Karan.Arya\\\\OneDrive - Wolters Kluwer\\\\Karan\\\\Tutorials\\\\plotly\\\\output\\\\plotly.html'"
      ]
     },
     "execution_count": 96,
     "metadata": {},
     "output_type": "execute_result"
    }
   ],
   "source": [
    "pyo.plot([{\n",
    "    'x': orders.index,\n",
    "    'y': orders.Sales    \n",
    "}], filename = '../output/plotly')"
   ]
  },
  {
   "cell_type": "markdown",
   "metadata": {},
   "source": [
    "# Plotly with Multiple Columns"
   ]
  },
  {
   "cell_type": "code",
   "execution_count": 7,
   "metadata": {},
   "outputs": [],
   "source": [
    "orders_sf = orders[['Sales', 'Profit']]"
   ]
  },
  {
   "cell_type": "code",
   "execution_count": 8,
   "metadata": {},
   "outputs": [
    {
     "data": {
      "text/html": [
       "<div>\n",
       "<style scoped>\n",
       "    .dataframe tbody tr th:only-of-type {\n",
       "        vertical-align: middle;\n",
       "    }\n",
       "\n",
       "    .dataframe tbody tr th {\n",
       "        vertical-align: top;\n",
       "    }\n",
       "\n",
       "    .dataframe thead th {\n",
       "        text-align: right;\n",
       "    }\n",
       "</style>\n",
       "<table border=\"1\" class=\"dataframe\">\n",
       "  <thead>\n",
       "    <tr style=\"text-align: right;\">\n",
       "      <th></th>\n",
       "      <th>Sales</th>\n",
       "      <th>Profit</th>\n",
       "    </tr>\n",
       "  </thead>\n",
       "  <tbody>\n",
       "    <tr>\n",
       "      <th>0</th>\n",
       "      <td>261.5400</td>\n",
       "      <td>-213.2500</td>\n",
       "    </tr>\n",
       "    <tr>\n",
       "      <th>1</th>\n",
       "      <td>10123.0200</td>\n",
       "      <td>457.8100</td>\n",
       "    </tr>\n",
       "    <tr>\n",
       "      <th>2</th>\n",
       "      <td>244.5700</td>\n",
       "      <td>46.7075</td>\n",
       "    </tr>\n",
       "    <tr>\n",
       "      <th>3</th>\n",
       "      <td>4965.7595</td>\n",
       "      <td>1198.9710</td>\n",
       "    </tr>\n",
       "    <tr>\n",
       "      <th>4</th>\n",
       "      <td>394.2700</td>\n",
       "      <td>30.9400</td>\n",
       "    </tr>\n",
       "  </tbody>\n",
       "</table>\n",
       "</div>"
      ],
      "text/plain": [
       "        Sales     Profit\n",
       "0    261.5400  -213.2500\n",
       "1  10123.0200   457.8100\n",
       "2    244.5700    46.7075\n",
       "3   4965.7595  1198.9710\n",
       "4    394.2700    30.9400"
      ]
     },
     "execution_count": 8,
     "metadata": {},
     "output_type": "execute_result"
    }
   ],
   "source": [
    "orders_sf.head()"
   ]
  },
  {
   "cell_type": "code",
   "execution_count": 97,
   "metadata": {},
   "outputs": [
    {
     "name": "stderr",
     "output_type": "stream",
     "text": [
      "C:\\Users\\Karan.Arya\\AppData\\Local\\Continuum\\anaconda3\\envs\\py36\\lib\\site-packages\\plotly\\offline\\offline.py:635: UserWarning:\n",
      "\n",
      "Your filename `../output/multipleColumnsChart` didn't end with .html. Adding .html to the end of your file.\n",
      "\n"
     ]
    },
    {
     "data": {
      "text/plain": [
       "'file://C:\\\\Users\\\\Karan.Arya\\\\OneDrive - Wolters Kluwer\\\\Karan\\\\Tutorials\\\\plotly\\\\output\\\\multipleColumnsChart.html'"
      ]
     },
     "execution_count": 97,
     "metadata": {},
     "output_type": "execute_result"
    }
   ],
   "source": [
    "pyo.plot([{\n",
    "    'x': orders_sf.index,\n",
    "    'y': orders_sf[col],\n",
    "    'name': col\n",
    "} for col in orders_sf.columns], filename = '../output/multipleColumnsChart')"
   ]
  },
  {
   "cell_type": "markdown",
   "metadata": {},
   "source": [
    "# Scatterplot via Plotly"
   ]
  },
  {
   "cell_type": "code",
   "execution_count": 10,
   "metadata": {},
   "outputs": [],
   "source": [
    "import plotly.graph_objs as go"
   ]
  },
  {
   "cell_type": "code",
   "execution_count": 66,
   "metadata": {},
   "outputs": [],
   "source": [
    "scatterPlot = [go.Scatter(\n",
    "    x = orders_sf.Sales,\n",
    "    y = orders_sf.Profit,\n",
    "    mode = 'markers',\n",
    "    \n",
    "    # marker parameter is optional\n",
    "    marker = {'size': 14,\n",
    "             'color': 'rgb(120, 150, 180)',\n",
    "             'symbol': 'square',\n",
    "             'line': {\n",
    "                 'width': 2\n",
    "             }}\n",
    "    )]"
   ]
  },
  {
   "cell_type": "code",
   "execution_count": 98,
   "metadata": {},
   "outputs": [
    {
     "name": "stderr",
     "output_type": "stream",
     "text": [
      "C:\\Users\\Karan.Arya\\AppData\\Local\\Continuum\\anaconda3\\envs\\py36\\lib\\site-packages\\plotly\\offline\\offline.py:635: UserWarning:\n",
      "\n",
      "Your filename `../output/scatterChart` didn't end with .html. Adding .html to the end of your file.\n",
      "\n"
     ]
    },
    {
     "data": {
      "text/plain": [
       "'file://C:\\\\Users\\\\Karan.Arya\\\\OneDrive - Wolters Kluwer\\\\Karan\\\\Tutorials\\\\plotly\\\\output\\\\scatterChart.html'"
      ]
     },
     "execution_count": 98,
     "metadata": {},
     "output_type": "execute_result"
    }
   ],
   "source": [
    "pyo.plot(scatterPlot, filename = '../output/scatterChart')"
   ]
  },
  {
   "cell_type": "code",
   "execution_count": 27,
   "metadata": {},
   "outputs": [],
   "source": [
    "layout = go.Layout(\n",
    "    title = 'Sales vs Profit Chart',\n",
    "    xaxis = dict(title = 'Sales in K'),\n",
    "    yaxis = dict(title = 'Profit in K'),\n",
    "    hovermode = 'closest'\n",
    ")"
   ]
  },
  {
   "cell_type": "code",
   "execution_count": 28,
   "metadata": {},
   "outputs": [],
   "source": [
    "figure = go.Figure(\n",
    "    data = scatterPlot,\n",
    "    layout = layout\n",
    ")"
   ]
  },
  {
   "cell_type": "code",
   "execution_count": 99,
   "metadata": {},
   "outputs": [
    {
     "name": "stderr",
     "output_type": "stream",
     "text": [
      "C:\\Users\\Karan.Arya\\AppData\\Local\\Continuum\\anaconda3\\envs\\py36\\lib\\site-packages\\plotly\\offline\\offline.py:635: UserWarning:\n",
      "\n",
      "Your filename `../output/scatterChart_2` didn't end with .html. Adding .html to the end of your file.\n",
      "\n"
     ]
    },
    {
     "data": {
      "text/plain": [
       "'file://C:\\\\Users\\\\Karan.Arya\\\\OneDrive - Wolters Kluwer\\\\Karan\\\\Tutorials\\\\plotly\\\\output\\\\scatterChart_2.html'"
      ]
     },
     "execution_count": 99,
     "metadata": {},
     "output_type": "execute_result"
    }
   ],
   "source": [
    "pyo.plot(figure, filename = '../output/scatterChart_2')"
   ]
  },
  {
   "cell_type": "markdown",
   "metadata": {},
   "source": [
    "# Bar Chart via Plotly"
   ]
  },
  {
   "cell_type": "code",
   "execution_count": 30,
   "metadata": {},
   "outputs": [
    {
     "data": {
      "text/html": [
       "<div>\n",
       "<style scoped>\n",
       "    .dataframe tbody tr th:only-of-type {\n",
       "        vertical-align: middle;\n",
       "    }\n",
       "\n",
       "    .dataframe tbody tr th {\n",
       "        vertical-align: top;\n",
       "    }\n",
       "\n",
       "    .dataframe thead th {\n",
       "        text-align: right;\n",
       "    }\n",
       "</style>\n",
       "<table border=\"1\" class=\"dataframe\">\n",
       "  <thead>\n",
       "    <tr style=\"text-align: right;\">\n",
       "      <th></th>\n",
       "      <th>Row ID</th>\n",
       "      <th>Order ID</th>\n",
       "      <th>Order Date</th>\n",
       "      <th>Order Priority</th>\n",
       "      <th>Order Quantity</th>\n",
       "      <th>Sales</th>\n",
       "      <th>Discount</th>\n",
       "      <th>Ship Mode</th>\n",
       "      <th>Profit</th>\n",
       "      <th>Unit Price</th>\n",
       "      <th>...</th>\n",
       "      <th>Customer Name</th>\n",
       "      <th>Province</th>\n",
       "      <th>Region</th>\n",
       "      <th>Customer Segment</th>\n",
       "      <th>Product Category</th>\n",
       "      <th>Product Sub-Category</th>\n",
       "      <th>Product Name</th>\n",
       "      <th>Product Container</th>\n",
       "      <th>Product Base Margin</th>\n",
       "      <th>Ship Date</th>\n",
       "    </tr>\n",
       "  </thead>\n",
       "  <tbody>\n",
       "    <tr>\n",
       "      <th>0</th>\n",
       "      <td>1</td>\n",
       "      <td>3</td>\n",
       "      <td>2010-10-13</td>\n",
       "      <td>Low</td>\n",
       "      <td>6</td>\n",
       "      <td>261.5400</td>\n",
       "      <td>0.04</td>\n",
       "      <td>Regular Air</td>\n",
       "      <td>-213.2500</td>\n",
       "      <td>38.94</td>\n",
       "      <td>...</td>\n",
       "      <td>Muhammed MacIntyre</td>\n",
       "      <td>Nunavut</td>\n",
       "      <td>Nunavut</td>\n",
       "      <td>Small Business</td>\n",
       "      <td>Office Supplies</td>\n",
       "      <td>Storage &amp; Organization</td>\n",
       "      <td>Eldon Base for stackable storage shelf, platinum</td>\n",
       "      <td>Large Box</td>\n",
       "      <td>0.80</td>\n",
       "      <td>2010-10-20</td>\n",
       "    </tr>\n",
       "    <tr>\n",
       "      <th>1</th>\n",
       "      <td>49</td>\n",
       "      <td>293</td>\n",
       "      <td>2012-10-01</td>\n",
       "      <td>High</td>\n",
       "      <td>49</td>\n",
       "      <td>10123.0200</td>\n",
       "      <td>0.07</td>\n",
       "      <td>Delivery Truck</td>\n",
       "      <td>457.8100</td>\n",
       "      <td>208.16</td>\n",
       "      <td>...</td>\n",
       "      <td>Barry French</td>\n",
       "      <td>Nunavut</td>\n",
       "      <td>Nunavut</td>\n",
       "      <td>Consumer</td>\n",
       "      <td>Office Supplies</td>\n",
       "      <td>Appliances</td>\n",
       "      <td>1.7 Cubic Foot Compact \"Cube\" Office Refrigera...</td>\n",
       "      <td>Jumbo Drum</td>\n",
       "      <td>0.58</td>\n",
       "      <td>2012-10-02</td>\n",
       "    </tr>\n",
       "    <tr>\n",
       "      <th>2</th>\n",
       "      <td>50</td>\n",
       "      <td>293</td>\n",
       "      <td>2012-10-01</td>\n",
       "      <td>High</td>\n",
       "      <td>27</td>\n",
       "      <td>244.5700</td>\n",
       "      <td>0.01</td>\n",
       "      <td>Regular Air</td>\n",
       "      <td>46.7075</td>\n",
       "      <td>8.69</td>\n",
       "      <td>...</td>\n",
       "      <td>Barry French</td>\n",
       "      <td>Nunavut</td>\n",
       "      <td>Nunavut</td>\n",
       "      <td>Consumer</td>\n",
       "      <td>Office Supplies</td>\n",
       "      <td>Binders and Binder Accessories</td>\n",
       "      <td>Cardinal Slant-D® Ring Binder, Heavy Gauge Vinyl</td>\n",
       "      <td>Small Box</td>\n",
       "      <td>0.39</td>\n",
       "      <td>2012-10-03</td>\n",
       "    </tr>\n",
       "    <tr>\n",
       "      <th>3</th>\n",
       "      <td>80</td>\n",
       "      <td>483</td>\n",
       "      <td>2011-07-10</td>\n",
       "      <td>High</td>\n",
       "      <td>30</td>\n",
       "      <td>4965.7595</td>\n",
       "      <td>0.08</td>\n",
       "      <td>Regular Air</td>\n",
       "      <td>1198.9710</td>\n",
       "      <td>195.99</td>\n",
       "      <td>...</td>\n",
       "      <td>Clay Rozendal</td>\n",
       "      <td>Nunavut</td>\n",
       "      <td>Nunavut</td>\n",
       "      <td>Corporate</td>\n",
       "      <td>Technology</td>\n",
       "      <td>Telephones and Communication</td>\n",
       "      <td>R380</td>\n",
       "      <td>Small Box</td>\n",
       "      <td>0.58</td>\n",
       "      <td>2011-07-12</td>\n",
       "    </tr>\n",
       "    <tr>\n",
       "      <th>4</th>\n",
       "      <td>85</td>\n",
       "      <td>515</td>\n",
       "      <td>2010-08-28</td>\n",
       "      <td>Not Specified</td>\n",
       "      <td>19</td>\n",
       "      <td>394.2700</td>\n",
       "      <td>0.08</td>\n",
       "      <td>Regular Air</td>\n",
       "      <td>30.9400</td>\n",
       "      <td>21.78</td>\n",
       "      <td>...</td>\n",
       "      <td>Carlos Soltero</td>\n",
       "      <td>Nunavut</td>\n",
       "      <td>Nunavut</td>\n",
       "      <td>Consumer</td>\n",
       "      <td>Office Supplies</td>\n",
       "      <td>Appliances</td>\n",
       "      <td>Holmes HEPA Air Purifier</td>\n",
       "      <td>Medium Box</td>\n",
       "      <td>0.50</td>\n",
       "      <td>2010-08-30</td>\n",
       "    </tr>\n",
       "  </tbody>\n",
       "</table>\n",
       "<p>5 rows × 21 columns</p>\n",
       "</div>"
      ],
      "text/plain": [
       "   Row ID  Order ID Order Date Order Priority  Order Quantity       Sales  \\\n",
       "0       1         3 2010-10-13            Low               6    261.5400   \n",
       "1      49       293 2012-10-01           High              49  10123.0200   \n",
       "2      50       293 2012-10-01           High              27    244.5700   \n",
       "3      80       483 2011-07-10           High              30   4965.7595   \n",
       "4      85       515 2010-08-28  Not Specified              19    394.2700   \n",
       "\n",
       "   Discount       Ship Mode     Profit  Unit Price  ...       Customer Name  \\\n",
       "0      0.04     Regular Air  -213.2500       38.94  ...  Muhammed MacIntyre   \n",
       "1      0.07  Delivery Truck   457.8100      208.16  ...        Barry French   \n",
       "2      0.01     Regular Air    46.7075        8.69  ...        Barry French   \n",
       "3      0.08     Regular Air  1198.9710      195.99  ...       Clay Rozendal   \n",
       "4      0.08     Regular Air    30.9400       21.78  ...      Carlos Soltero   \n",
       "\n",
       "  Province   Region Customer Segment Product Category  \\\n",
       "0  Nunavut  Nunavut   Small Business  Office Supplies   \n",
       "1  Nunavut  Nunavut         Consumer  Office Supplies   \n",
       "2  Nunavut  Nunavut         Consumer  Office Supplies   \n",
       "3  Nunavut  Nunavut        Corporate       Technology   \n",
       "4  Nunavut  Nunavut         Consumer  Office Supplies   \n",
       "\n",
       "             Product Sub-Category  \\\n",
       "0          Storage & Organization   \n",
       "1                      Appliances   \n",
       "2  Binders and Binder Accessories   \n",
       "3    Telephones and Communication   \n",
       "4                      Appliances   \n",
       "\n",
       "                                        Product Name Product Container  \\\n",
       "0   Eldon Base for stackable storage shelf, platinum         Large Box   \n",
       "1  1.7 Cubic Foot Compact \"Cube\" Office Refrigera...        Jumbo Drum   \n",
       "2   Cardinal Slant-D® Ring Binder, Heavy Gauge Vinyl         Small Box   \n",
       "3                                               R380         Small Box   \n",
       "4                           Holmes HEPA Air Purifier        Medium Box   \n",
       "\n",
       "  Product Base Margin  Ship Date  \n",
       "0                0.80 2010-10-20  \n",
       "1                0.58 2012-10-02  \n",
       "2                0.39 2012-10-03  \n",
       "3                0.58 2011-07-12  \n",
       "4                0.50 2010-08-30  \n",
       "\n",
       "[5 rows x 21 columns]"
      ]
     },
     "execution_count": 30,
     "metadata": {},
     "output_type": "execute_result"
    }
   ],
   "source": [
    "orders.head()"
   ]
  },
  {
   "cell_type": "code",
   "execution_count": 31,
   "metadata": {},
   "outputs": [],
   "source": [
    "order_priority = pd.pivot_table(orders, values = 'Sales', index = 'Order Priority')"
   ]
  },
  {
   "cell_type": "code",
   "execution_count": 40,
   "metadata": {},
   "outputs": [
    {
     "data": {
      "text/plain": [
       "array([1694.52653762, 1848.05224038, 1908.50603256, 1755.02888964,\n",
       "       1661.70053559])"
      ]
     },
     "execution_count": 40,
     "metadata": {},
     "output_type": "execute_result"
    }
   ],
   "source": [
    "order_priority['Sales'].values"
   ]
  },
  {
   "cell_type": "code",
   "execution_count": 41,
   "metadata": {},
   "outputs": [],
   "source": [
    "barPlot = [\n",
    "    go.Bar(\n",
    "    x = order_priority.index,\n",
    "    y = order_priority['Sales'].values,\n",
    "    name = 'Average Sales by Ship Mode'\n",
    "    )\n",
    "]\n",
    "barLayout = go.Layout(title = 'Average Sales by Ship Mode')"
   ]
  },
  {
   "cell_type": "code",
   "execution_count": 42,
   "metadata": {},
   "outputs": [],
   "source": [
    "barFigure = go.Figure(data = barPlot, layout = barLayout)"
   ]
  },
  {
   "cell_type": "code",
   "execution_count": 100,
   "metadata": {},
   "outputs": [
    {
     "name": "stderr",
     "output_type": "stream",
     "text": [
      "C:\\Users\\Karan.Arya\\AppData\\Local\\Continuum\\anaconda3\\envs\\py36\\lib\\site-packages\\plotly\\offline\\offline.py:635: UserWarning:\n",
      "\n",
      "Your filename `../output/barChart` didn't end with .html. Adding .html to the end of your file.\n",
      "\n"
     ]
    },
    {
     "data": {
      "text/plain": [
       "'file://C:\\\\Users\\\\Karan.Arya\\\\OneDrive - Wolters Kluwer\\\\Karan\\\\Tutorials\\\\plotly\\\\output\\\\barChart.html'"
      ]
     },
     "execution_count": 100,
     "metadata": {},
     "output_type": "execute_result"
    }
   ],
   "source": [
    "pyo.plot(barFigure, filename = '../output/barChart')"
   ]
  },
  {
   "cell_type": "markdown",
   "metadata": {},
   "source": [
    "# Bar Chart with Multiple Columns"
   ]
  },
  {
   "cell_type": "code",
   "execution_count": 56,
   "metadata": {},
   "outputs": [],
   "source": [
    "order_priority2 = pd.pivot_table(orders, values = 'Sales', index = 'Order Priority', aggfunc = 'median')"
   ]
  },
  {
   "cell_type": "code",
   "execution_count": 57,
   "metadata": {},
   "outputs": [],
   "source": [
    "order_priority_new = order_priority.merge(order_priority2, on = order_priority.index)"
   ]
  },
  {
   "cell_type": "code",
   "execution_count": 58,
   "metadata": {},
   "outputs": [
    {
     "data": {
      "text/html": [
       "<div>\n",
       "<style scoped>\n",
       "    .dataframe tbody tr th:only-of-type {\n",
       "        vertical-align: middle;\n",
       "    }\n",
       "\n",
       "    .dataframe tbody tr th {\n",
       "        vertical-align: top;\n",
       "    }\n",
       "\n",
       "    .dataframe thead th {\n",
       "        text-align: right;\n",
       "    }\n",
       "</style>\n",
       "<table border=\"1\" class=\"dataframe\">\n",
       "  <thead>\n",
       "    <tr style=\"text-align: right;\">\n",
       "      <th></th>\n",
       "      <th>key_0</th>\n",
       "      <th>Sales_x</th>\n",
       "      <th>Sales_y</th>\n",
       "    </tr>\n",
       "  </thead>\n",
       "  <tbody>\n",
       "    <tr>\n",
       "      <th>0</th>\n",
       "      <td>Critical</td>\n",
       "      <td>1694.526538</td>\n",
       "      <td>443.405</td>\n",
       "    </tr>\n",
       "    <tr>\n",
       "      <th>1</th>\n",
       "      <td>High</td>\n",
       "      <td>1848.052240</td>\n",
       "      <td>464.250</td>\n",
       "    </tr>\n",
       "    <tr>\n",
       "      <th>2</th>\n",
       "      <td>Low</td>\n",
       "      <td>1908.506033</td>\n",
       "      <td>492.855</td>\n",
       "    </tr>\n",
       "    <tr>\n",
       "      <th>3</th>\n",
       "      <td>Medium</td>\n",
       "      <td>1755.028890</td>\n",
       "      <td>418.820</td>\n",
       "    </tr>\n",
       "    <tr>\n",
       "      <th>4</th>\n",
       "      <td>Not Specified</td>\n",
       "      <td>1661.700536</td>\n",
       "      <td>400.105</td>\n",
       "    </tr>\n",
       "  </tbody>\n",
       "</table>\n",
       "</div>"
      ],
      "text/plain": [
       "           key_0      Sales_x  Sales_y\n",
       "0       Critical  1694.526538  443.405\n",
       "1           High  1848.052240  464.250\n",
       "2            Low  1908.506033  492.855\n",
       "3         Medium  1755.028890  418.820\n",
       "4  Not Specified  1661.700536  400.105"
      ]
     },
     "execution_count": 58,
     "metadata": {},
     "output_type": "execute_result"
    }
   ],
   "source": [
    "order_priority_new"
   ]
  },
  {
   "cell_type": "code",
   "execution_count": 59,
   "metadata": {},
   "outputs": [],
   "source": [
    "barPlot = [\n",
    "    go.Bar(\n",
    "    x = order_priority_new['key_0'].values,\n",
    "    y = order_priority_new[col].values,\n",
    "    name = col\n",
    "    )\n",
    "for col in ['Sales_x', 'Sales_y']]\n",
    "barLayout = go.Layout(title = 'Average Sales by Ship Mode')"
   ]
  },
  {
   "cell_type": "code",
   "execution_count": 60,
   "metadata": {},
   "outputs": [],
   "source": [
    "barFigure = go.Figure(data = barPlot, layout = barLayout)"
   ]
  },
  {
   "cell_type": "code",
   "execution_count": 61,
   "metadata": {},
   "outputs": [
    {
     "data": {
      "text/plain": [
       "'file://C:\\\\Users\\\\Karan.Arya\\\\OneDrive - Wolters Kluwer\\\\Karan\\\\Tutorials\\\\plotly\\\\lib\\\\temp-plot.html'"
      ]
     },
     "execution_count": 61,
     "metadata": {},
     "output_type": "execute_result"
    }
   ],
   "source": [
    "pyo.plot(barFigure, filename = '../output/barChartMultipleColumns')"
   ]
  },
  {
   "cell_type": "markdown",
   "metadata": {},
   "source": [
    "# Grouped Bar Chart"
   ]
  },
  {
   "cell_type": "code",
   "execution_count": 127,
   "metadata": {},
   "outputs": [],
   "source": [
    "fifa_goals = pd.pivot_table(fifa, values = ['Home Team Goals', 'Away Team Goals'], index = 'Year', aggfunc = 'mean')"
   ]
  },
  {
   "cell_type": "code",
   "execution_count": 128,
   "metadata": {},
   "outputs": [
    {
     "data": {
      "text/html": [
       "<div>\n",
       "<style scoped>\n",
       "    .dataframe tbody tr th:only-of-type {\n",
       "        vertical-align: middle;\n",
       "    }\n",
       "\n",
       "    .dataframe tbody tr th {\n",
       "        vertical-align: top;\n",
       "    }\n",
       "\n",
       "    .dataframe thead th {\n",
       "        text-align: right;\n",
       "    }\n",
       "</style>\n",
       "<table border=\"1\" class=\"dataframe\">\n",
       "  <thead>\n",
       "    <tr style=\"text-align: right;\">\n",
       "      <th></th>\n",
       "      <th>Away Team Goals</th>\n",
       "      <th>Home Team Goals</th>\n",
       "    </tr>\n",
       "    <tr>\n",
       "      <th>Year</th>\n",
       "      <th></th>\n",
       "      <th></th>\n",
       "    </tr>\n",
       "  </thead>\n",
       "  <tbody>\n",
       "    <tr>\n",
       "      <th>1930.0</th>\n",
       "      <td>0.611111</td>\n",
       "      <td>3.277778</td>\n",
       "    </tr>\n",
       "    <tr>\n",
       "      <th>1934.0</th>\n",
       "      <td>1.294118</td>\n",
       "      <td>2.823529</td>\n",
       "    </tr>\n",
       "    <tr>\n",
       "      <th>1938.0</th>\n",
       "      <td>1.277778</td>\n",
       "      <td>3.388889</td>\n",
       "    </tr>\n",
       "    <tr>\n",
       "      <th>1950.0</th>\n",
       "      <td>0.863636</td>\n",
       "      <td>3.136364</td>\n",
       "    </tr>\n",
       "    <tr>\n",
       "      <th>1954.0</th>\n",
       "      <td>1.192308</td>\n",
       "      <td>4.192308</td>\n",
       "    </tr>\n",
       "  </tbody>\n",
       "</table>\n",
       "</div>"
      ],
      "text/plain": [
       "        Away Team Goals  Home Team Goals\n",
       "Year                                    \n",
       "1930.0         0.611111         3.277778\n",
       "1934.0         1.294118         2.823529\n",
       "1938.0         1.277778         3.388889\n",
       "1950.0         0.863636         3.136364\n",
       "1954.0         1.192308         4.192308"
      ]
     },
     "execution_count": 128,
     "metadata": {},
     "output_type": "execute_result"
    }
   ],
   "source": [
    "fifa_goals.head()"
   ]
  },
  {
   "cell_type": "code",
   "execution_count": 129,
   "metadata": {},
   "outputs": [],
   "source": [
    "barPlot = [\n",
    "    go.Bar(\n",
    "    x = fifa_goals.index.values,\n",
    "    y = fifa_goals[col].values,\n",
    "    name = col\n",
    "    )\n",
    "for col in ['Home Team Goals', 'Away Team Goals']]\n",
    "barLayout = go.Layout(title = 'Average Goals by Year')"
   ]
  },
  {
   "cell_type": "code",
   "execution_count": 130,
   "metadata": {},
   "outputs": [],
   "source": [
    "barFigure = go.Figure(data = barPlot, layout = barLayout)"
   ]
  },
  {
   "cell_type": "code",
   "execution_count": 131,
   "metadata": {
    "scrolled": true
   },
   "outputs": [
    {
     "name": "stderr",
     "output_type": "stream",
     "text": [
      "C:\\Users\\Karan.Arya\\AppData\\Local\\Continuum\\anaconda3\\envs\\py36\\lib\\site-packages\\plotly\\offline\\offline.py:635: UserWarning:\n",
      "\n",
      "Your filename `../output/groupedBarChart` didn't end with .html. Adding .html to the end of your file.\n",
      "\n"
     ]
    },
    {
     "data": {
      "text/plain": [
       "'file://C:\\\\Users\\\\Karan.Arya\\\\OneDrive - Wolters Kluwer\\\\Karan\\\\Tutorials\\\\plotly\\\\output\\\\groupedBarChart.html'"
      ]
     },
     "execution_count": 131,
     "metadata": {},
     "output_type": "execute_result"
    }
   ],
   "source": [
    "pyo.plot(barFigure, filename = '../output/groupedBarChart')"
   ]
  },
  {
   "cell_type": "markdown",
   "metadata": {},
   "source": [
    "# Stacked Bar Chart"
   ]
  },
  {
   "cell_type": "code",
   "execution_count": 134,
   "metadata": {},
   "outputs": [],
   "source": [
    "fifa_goals = pd.pivot_table(fifa, values = ['Home Team Goals', 'Away Team Goals'], index = 'Year', aggfunc = 'mean')"
   ]
  },
  {
   "cell_type": "code",
   "execution_count": 135,
   "metadata": {},
   "outputs": [
    {
     "data": {
      "text/html": [
       "<div>\n",
       "<style scoped>\n",
       "    .dataframe tbody tr th:only-of-type {\n",
       "        vertical-align: middle;\n",
       "    }\n",
       "\n",
       "    .dataframe tbody tr th {\n",
       "        vertical-align: top;\n",
       "    }\n",
       "\n",
       "    .dataframe thead th {\n",
       "        text-align: right;\n",
       "    }\n",
       "</style>\n",
       "<table border=\"1\" class=\"dataframe\">\n",
       "  <thead>\n",
       "    <tr style=\"text-align: right;\">\n",
       "      <th></th>\n",
       "      <th>Away Team Goals</th>\n",
       "      <th>Home Team Goals</th>\n",
       "    </tr>\n",
       "    <tr>\n",
       "      <th>Year</th>\n",
       "      <th></th>\n",
       "      <th></th>\n",
       "    </tr>\n",
       "  </thead>\n",
       "  <tbody>\n",
       "    <tr>\n",
       "      <th>1930.0</th>\n",
       "      <td>0.611111</td>\n",
       "      <td>3.277778</td>\n",
       "    </tr>\n",
       "    <tr>\n",
       "      <th>1934.0</th>\n",
       "      <td>1.294118</td>\n",
       "      <td>2.823529</td>\n",
       "    </tr>\n",
       "    <tr>\n",
       "      <th>1938.0</th>\n",
       "      <td>1.277778</td>\n",
       "      <td>3.388889</td>\n",
       "    </tr>\n",
       "    <tr>\n",
       "      <th>1950.0</th>\n",
       "      <td>0.863636</td>\n",
       "      <td>3.136364</td>\n",
       "    </tr>\n",
       "    <tr>\n",
       "      <th>1954.0</th>\n",
       "      <td>1.192308</td>\n",
       "      <td>4.192308</td>\n",
       "    </tr>\n",
       "  </tbody>\n",
       "</table>\n",
       "</div>"
      ],
      "text/plain": [
       "        Away Team Goals  Home Team Goals\n",
       "Year                                    \n",
       "1930.0         0.611111         3.277778\n",
       "1934.0         1.294118         2.823529\n",
       "1938.0         1.277778         3.388889\n",
       "1950.0         0.863636         3.136364\n",
       "1954.0         1.192308         4.192308"
      ]
     },
     "execution_count": 135,
     "metadata": {},
     "output_type": "execute_result"
    }
   ],
   "source": [
    "fifa_goals.head()"
   ]
  },
  {
   "cell_type": "code",
   "execution_count": 136,
   "metadata": {},
   "outputs": [],
   "source": [
    "barPlot = [\n",
    "    go.Bar(\n",
    "    x = fifa_goals.index.values,\n",
    "    y = fifa_goals[col].values,\n",
    "    name = col\n",
    "    )\n",
    "for col in ['Home Team Goals', 'Away Team Goals']]\n",
    "barLayout = go.Layout(title = 'Average Goals by Year', barmode = 'stack')"
   ]
  },
  {
   "cell_type": "code",
   "execution_count": 137,
   "metadata": {},
   "outputs": [],
   "source": [
    "barFigure = go.Figure(data = barPlot, layout = barLayout)"
   ]
  },
  {
   "cell_type": "code",
   "execution_count": 138,
   "metadata": {},
   "outputs": [
    {
     "name": "stderr",
     "output_type": "stream",
     "text": [
      "C:\\Users\\Karan.Arya\\AppData\\Local\\Continuum\\anaconda3\\envs\\py36\\lib\\site-packages\\plotly\\offline\\offline.py:635: UserWarning:\n",
      "\n",
      "Your filename `../output/stackedBarChart` didn't end with .html. Adding .html to the end of your file.\n",
      "\n"
     ]
    },
    {
     "data": {
      "text/plain": [
       "'file://C:\\\\Users\\\\Karan.Arya\\\\OneDrive - Wolters Kluwer\\\\Karan\\\\Tutorials\\\\plotly\\\\output\\\\stackedBarChart.html'"
      ]
     },
     "execution_count": 138,
     "metadata": {},
     "output_type": "execute_result"
    }
   ],
   "source": [
    "pyo.plot(barFigure, filename = '../output/stackedBarChart')"
   ]
  },
  {
   "cell_type": "markdown",
   "metadata": {},
   "source": [
    "# Line Chart via Plotly"
   ]
  },
  {
   "cell_type": "code",
   "execution_count": 69,
   "metadata": {},
   "outputs": [],
   "source": [
    "fifa = pd.read_csv('../data/WorldCupMatches.csv')"
   ]
  },
  {
   "cell_type": "code",
   "execution_count": 70,
   "metadata": {},
   "outputs": [
    {
     "data": {
      "text/html": [
       "<div>\n",
       "<style scoped>\n",
       "    .dataframe tbody tr th:only-of-type {\n",
       "        vertical-align: middle;\n",
       "    }\n",
       "\n",
       "    .dataframe tbody tr th {\n",
       "        vertical-align: top;\n",
       "    }\n",
       "\n",
       "    .dataframe thead th {\n",
       "        text-align: right;\n",
       "    }\n",
       "</style>\n",
       "<table border=\"1\" class=\"dataframe\">\n",
       "  <thead>\n",
       "    <tr style=\"text-align: right;\">\n",
       "      <th></th>\n",
       "      <th>Year</th>\n",
       "      <th>Datetime</th>\n",
       "      <th>Stage</th>\n",
       "      <th>Stadium</th>\n",
       "      <th>City</th>\n",
       "      <th>Home Team Name</th>\n",
       "      <th>Home Team Goals</th>\n",
       "      <th>Away Team Goals</th>\n",
       "      <th>Away Team Name</th>\n",
       "      <th>Win conditions</th>\n",
       "      <th>Attendance</th>\n",
       "      <th>Half-time Home Goals</th>\n",
       "      <th>Half-time Away Goals</th>\n",
       "      <th>Referee</th>\n",
       "      <th>Assistant 1</th>\n",
       "      <th>Assistant 2</th>\n",
       "      <th>RoundID</th>\n",
       "      <th>MatchID</th>\n",
       "      <th>Home Team Initials</th>\n",
       "      <th>Away Team Initials</th>\n",
       "    </tr>\n",
       "  </thead>\n",
       "  <tbody>\n",
       "    <tr>\n",
       "      <th>0</th>\n",
       "      <td>1930.0</td>\n",
       "      <td>13 Jul 1930 - 15:00</td>\n",
       "      <td>Group 1</td>\n",
       "      <td>Pocitos</td>\n",
       "      <td>Montevideo</td>\n",
       "      <td>France</td>\n",
       "      <td>4.0</td>\n",
       "      <td>1.0</td>\n",
       "      <td>Mexico</td>\n",
       "      <td></td>\n",
       "      <td>4444.0</td>\n",
       "      <td>3.0</td>\n",
       "      <td>0.0</td>\n",
       "      <td>LOMBARDI Domingo (URU)</td>\n",
       "      <td>CRISTOPHE Henry (BEL)</td>\n",
       "      <td>REGO Gilberto (BRA)</td>\n",
       "      <td>201.0</td>\n",
       "      <td>1096.0</td>\n",
       "      <td>FRA</td>\n",
       "      <td>MEX</td>\n",
       "    </tr>\n",
       "    <tr>\n",
       "      <th>1</th>\n",
       "      <td>1930.0</td>\n",
       "      <td>13 Jul 1930 - 15:00</td>\n",
       "      <td>Group 4</td>\n",
       "      <td>Parque Central</td>\n",
       "      <td>Montevideo</td>\n",
       "      <td>USA</td>\n",
       "      <td>3.0</td>\n",
       "      <td>0.0</td>\n",
       "      <td>Belgium</td>\n",
       "      <td></td>\n",
       "      <td>18346.0</td>\n",
       "      <td>2.0</td>\n",
       "      <td>0.0</td>\n",
       "      <td>MACIAS Jose (ARG)</td>\n",
       "      <td>MATEUCCI Francisco (URU)</td>\n",
       "      <td>WARNKEN Alberto (CHI)</td>\n",
       "      <td>201.0</td>\n",
       "      <td>1090.0</td>\n",
       "      <td>USA</td>\n",
       "      <td>BEL</td>\n",
       "    </tr>\n",
       "    <tr>\n",
       "      <th>2</th>\n",
       "      <td>1930.0</td>\n",
       "      <td>14 Jul 1930 - 12:45</td>\n",
       "      <td>Group 2</td>\n",
       "      <td>Parque Central</td>\n",
       "      <td>Montevideo</td>\n",
       "      <td>Yugoslavia</td>\n",
       "      <td>2.0</td>\n",
       "      <td>1.0</td>\n",
       "      <td>Brazil</td>\n",
       "      <td></td>\n",
       "      <td>24059.0</td>\n",
       "      <td>2.0</td>\n",
       "      <td>0.0</td>\n",
       "      <td>TEJADA Anibal (URU)</td>\n",
       "      <td>VALLARINO Ricardo (URU)</td>\n",
       "      <td>BALWAY Thomas (FRA)</td>\n",
       "      <td>201.0</td>\n",
       "      <td>1093.0</td>\n",
       "      <td>YUG</td>\n",
       "      <td>BRA</td>\n",
       "    </tr>\n",
       "  </tbody>\n",
       "</table>\n",
       "</div>"
      ],
      "text/plain": [
       "     Year              Datetime    Stage         Stadium         City  \\\n",
       "0  1930.0  13 Jul 1930 - 15:00   Group 1         Pocitos  Montevideo    \n",
       "1  1930.0  13 Jul 1930 - 15:00   Group 4  Parque Central  Montevideo    \n",
       "2  1930.0  14 Jul 1930 - 12:45   Group 2  Parque Central  Montevideo    \n",
       "\n",
       "  Home Team Name  Home Team Goals  Away Team Goals Away Team Name  \\\n",
       "0         France              4.0              1.0         Mexico   \n",
       "1            USA              3.0              0.0        Belgium   \n",
       "2     Yugoslavia              2.0              1.0         Brazil   \n",
       "\n",
       "  Win conditions  Attendance  Half-time Home Goals  Half-time Away Goals  \\\n",
       "0                     4444.0                   3.0                   0.0   \n",
       "1                    18346.0                   2.0                   0.0   \n",
       "2                    24059.0                   2.0                   0.0   \n",
       "\n",
       "                  Referee               Assistant 1            Assistant 2  \\\n",
       "0  LOMBARDI Domingo (URU)     CRISTOPHE Henry (BEL)    REGO Gilberto (BRA)   \n",
       "1       MACIAS Jose (ARG)  MATEUCCI Francisco (URU)  WARNKEN Alberto (CHI)   \n",
       "2     TEJADA Anibal (URU)   VALLARINO Ricardo (URU)    BALWAY Thomas (FRA)   \n",
       "\n",
       "   RoundID  MatchID Home Team Initials Away Team Initials  \n",
       "0    201.0   1096.0                FRA                MEX  \n",
       "1    201.0   1090.0                USA                BEL  \n",
       "2    201.0   1093.0                YUG                BRA  "
      ]
     },
     "execution_count": 70,
     "metadata": {},
     "output_type": "execute_result"
    }
   ],
   "source": [
    "fifa.head(3)"
   ]
  },
  {
   "cell_type": "code",
   "execution_count": 71,
   "metadata": {},
   "outputs": [],
   "source": [
    "fifa_home_goals = pd.pivot_table(fifa, values = 'Home Team Goals', index = 'Year', aggfunc = 'mean')"
   ]
  },
  {
   "cell_type": "code",
   "execution_count": 73,
   "metadata": {
    "scrolled": true
   },
   "outputs": [
    {
     "data": {
      "text/html": [
       "<div>\n",
       "<style scoped>\n",
       "    .dataframe tbody tr th:only-of-type {\n",
       "        vertical-align: middle;\n",
       "    }\n",
       "\n",
       "    .dataframe tbody tr th {\n",
       "        vertical-align: top;\n",
       "    }\n",
       "\n",
       "    .dataframe thead th {\n",
       "        text-align: right;\n",
       "    }\n",
       "</style>\n",
       "<table border=\"1\" class=\"dataframe\">\n",
       "  <thead>\n",
       "    <tr style=\"text-align: right;\">\n",
       "      <th></th>\n",
       "      <th>Home Team Goals</th>\n",
       "    </tr>\n",
       "    <tr>\n",
       "      <th>Year</th>\n",
       "      <th></th>\n",
       "    </tr>\n",
       "  </thead>\n",
       "  <tbody>\n",
       "    <tr>\n",
       "      <th>1930.0</th>\n",
       "      <td>3.277778</td>\n",
       "    </tr>\n",
       "    <tr>\n",
       "      <th>1934.0</th>\n",
       "      <td>2.823529</td>\n",
       "    </tr>\n",
       "    <tr>\n",
       "      <th>1938.0</th>\n",
       "      <td>3.388889</td>\n",
       "    </tr>\n",
       "    <tr>\n",
       "      <th>1950.0</th>\n",
       "      <td>3.136364</td>\n",
       "    </tr>\n",
       "    <tr>\n",
       "      <th>1954.0</th>\n",
       "      <td>4.192308</td>\n",
       "    </tr>\n",
       "  </tbody>\n",
       "</table>\n",
       "</div>"
      ],
      "text/plain": [
       "        Home Team Goals\n",
       "Year                   \n",
       "1930.0         3.277778\n",
       "1934.0         2.823529\n",
       "1938.0         3.388889\n",
       "1950.0         3.136364\n",
       "1954.0         4.192308"
      ]
     },
     "execution_count": 73,
     "metadata": {},
     "output_type": "execute_result"
    }
   ],
   "source": [
    "fifa_home_goals.head()"
   ]
  },
  {
   "cell_type": "code",
   "execution_count": 80,
   "metadata": {},
   "outputs": [
    {
     "data": {
      "text/plain": [
       "array([3.27777778, 2.82352941, 3.38888889, 3.13636364, 4.19230769,\n",
       "       2.51428571, 2.15625   , 2.15625   , 2.25      , 1.34210526,\n",
       "       2.07894737, 1.86538462, 1.42307692, 1.28846154, 1.59615385,\n",
       "       1.53125   , 1.390625  , 1.34375   , 1.1875    , 1.2375    ])"
      ]
     },
     "execution_count": 80,
     "metadata": {},
     "output_type": "execute_result"
    }
   ],
   "source": [
    "fifa_home_goals['Home Team Goals'].values"
   ]
  },
  {
   "cell_type": "code",
   "execution_count": 87,
   "metadata": {},
   "outputs": [],
   "source": [
    "lineChart = [go.Scatter(\n",
    "    x = fifa_home_goals.index,\n",
    "    y = fifa_home_goals['Home Team Goals'],\n",
    "    mode = 'lines',\n",
    "    name = 'Average Home Goals vs Year'\n",
    ")]"
   ]
  },
  {
   "cell_type": "code",
   "execution_count": 88,
   "metadata": {},
   "outputs": [],
   "source": [
    "lineLayout = go.Layout(title = 'Average Home Goals vs Year')"
   ]
  },
  {
   "cell_type": "code",
   "execution_count": 95,
   "metadata": {},
   "outputs": [
    {
     "name": "stderr",
     "output_type": "stream",
     "text": [
      "C:\\Users\\Karan.Arya\\AppData\\Local\\Continuum\\anaconda3\\envs\\py36\\lib\\site-packages\\plotly\\offline\\offline.py:635: UserWarning:\n",
      "\n",
      "Your filename `../output/lineChart` didn't end with .html. Adding .html to the end of your file.\n",
      "\n"
     ]
    },
    {
     "data": {
      "text/plain": [
       "'file://C:\\\\Users\\\\Karan.Arya\\\\OneDrive - Wolters Kluwer\\\\Karan\\\\Tutorials\\\\plotly\\\\output\\\\lineChart.html'"
      ]
     },
     "execution_count": 95,
     "metadata": {},
     "output_type": "execute_result"
    }
   ],
   "source": [
    "lineFigure = go.Figure(data = lineChart, layout = lineLayout)\n",
    "pyo.plot(lineFigure, filename = '../output/lineChart')"
   ]
  },
  {
   "cell_type": "markdown",
   "metadata": {},
   "source": [
    "# Line Chart with Multiple Columns"
   ]
  },
  {
   "cell_type": "code",
   "execution_count": 101,
   "metadata": {},
   "outputs": [],
   "source": [
    "fifa_home_away_goals = pd.pivot_table(fifa, values = ['Home Team Goals', 'Away Team Goals'], index = 'Year', aggfunc = 'mean')"
   ]
  },
  {
   "cell_type": "code",
   "execution_count": 102,
   "metadata": {},
   "outputs": [
    {
     "data": {
      "text/html": [
       "<div>\n",
       "<style scoped>\n",
       "    .dataframe tbody tr th:only-of-type {\n",
       "        vertical-align: middle;\n",
       "    }\n",
       "\n",
       "    .dataframe tbody tr th {\n",
       "        vertical-align: top;\n",
       "    }\n",
       "\n",
       "    .dataframe thead th {\n",
       "        text-align: right;\n",
       "    }\n",
       "</style>\n",
       "<table border=\"1\" class=\"dataframe\">\n",
       "  <thead>\n",
       "    <tr style=\"text-align: right;\">\n",
       "      <th></th>\n",
       "      <th>Away Team Goals</th>\n",
       "      <th>Home Team Goals</th>\n",
       "    </tr>\n",
       "    <tr>\n",
       "      <th>Year</th>\n",
       "      <th></th>\n",
       "      <th></th>\n",
       "    </tr>\n",
       "  </thead>\n",
       "  <tbody>\n",
       "    <tr>\n",
       "      <th>1930.0</th>\n",
       "      <td>0.611111</td>\n",
       "      <td>3.277778</td>\n",
       "    </tr>\n",
       "    <tr>\n",
       "      <th>1934.0</th>\n",
       "      <td>1.294118</td>\n",
       "      <td>2.823529</td>\n",
       "    </tr>\n",
       "    <tr>\n",
       "      <th>1938.0</th>\n",
       "      <td>1.277778</td>\n",
       "      <td>3.388889</td>\n",
       "    </tr>\n",
       "    <tr>\n",
       "      <th>1950.0</th>\n",
       "      <td>0.863636</td>\n",
       "      <td>3.136364</td>\n",
       "    </tr>\n",
       "    <tr>\n",
       "      <th>1954.0</th>\n",
       "      <td>1.192308</td>\n",
       "      <td>4.192308</td>\n",
       "    </tr>\n",
       "  </tbody>\n",
       "</table>\n",
       "</div>"
      ],
      "text/plain": [
       "        Away Team Goals  Home Team Goals\n",
       "Year                                    \n",
       "1930.0         0.611111         3.277778\n",
       "1934.0         1.294118         2.823529\n",
       "1938.0         1.277778         3.388889\n",
       "1950.0         0.863636         3.136364\n",
       "1954.0         1.192308         4.192308"
      ]
     },
     "execution_count": 102,
     "metadata": {},
     "output_type": "execute_result"
    }
   ],
   "source": [
    "fifa_home_away_goals.head()"
   ]
  },
  {
   "cell_type": "code",
   "execution_count": 110,
   "metadata": {},
   "outputs": [],
   "source": [
    "trace0 = go.Scatter(\n",
    "    x = fifa_home_away_goals.index,\n",
    "    y = fifa_home_away_goals['Away Team Goals'],\n",
    "    mode = 'lines',\n",
    "    name = 'Away Goals'\n",
    ")\n",
    "\n",
    "trace1 = go.Scatter(\n",
    "    x = fifa_home_away_goals.index,\n",
    "    y = fifa_home_away_goals['Home Team Goals'],\n",
    "    mode = 'lines',\n",
    "    name = 'Home Goals'\n",
    ")"
   ]
  },
  {
   "cell_type": "code",
   "execution_count": 111,
   "metadata": {},
   "outputs": [],
   "source": [
    "lineChartMultiple = [trace0, trace1]"
   ]
  },
  {
   "cell_type": "code",
   "execution_count": 112,
   "metadata": {},
   "outputs": [],
   "source": [
    "lineChartMultipleLayout = go.Layout(title = 'Average Home and Away Goals vs Year')"
   ]
  },
  {
   "cell_type": "code",
   "execution_count": 113,
   "metadata": {},
   "outputs": [
    {
     "name": "stderr",
     "output_type": "stream",
     "text": [
      "C:\\Users\\Karan.Arya\\AppData\\Local\\Continuum\\anaconda3\\envs\\py36\\lib\\site-packages\\plotly\\offline\\offline.py:635: UserWarning:\n",
      "\n",
      "Your filename `../output/lineChartMultipleColumns` didn't end with .html. Adding .html to the end of your file.\n",
      "\n"
     ]
    },
    {
     "data": {
      "text/plain": [
       "'file://C:\\\\Users\\\\Karan.Arya\\\\OneDrive - Wolters Kluwer\\\\Karan\\\\Tutorials\\\\plotly\\\\output\\\\lineChartMultipleColumns.html'"
      ]
     },
     "execution_count": 113,
     "metadata": {},
     "output_type": "execute_result"
    }
   ],
   "source": [
    "lineFigureMultiple = go.Figure(data = lineChartMultiple, layout = lineChartMultipleLayout)\n",
    "pyo.plot(lineFigureMultiple, filename = '../output/lineChartMultipleColumns')"
   ]
  },
  {
   "cell_type": "markdown",
   "metadata": {},
   "source": [
    "# Adding Points to Line Chart"
   ]
  },
  {
   "cell_type": "code",
   "execution_count": 114,
   "metadata": {},
   "outputs": [],
   "source": [
    "trace0 = go.Scatter(\n",
    "    x = fifa_home_away_goals.index,\n",
    "    y = fifa_home_away_goals['Away Team Goals'],\n",
    "    mode = 'markers+lines',\n",
    "    name = 'Away Goals'\n",
    ")\n",
    "\n",
    "trace1 = go.Scatter(\n",
    "    x = fifa_home_away_goals.index,\n",
    "    y = fifa_home_away_goals['Home Team Goals'],\n",
    "    mode = 'markers+lines',\n",
    "    name = 'Home Goals'\n",
    ")"
   ]
  },
  {
   "cell_type": "code",
   "execution_count": 115,
   "metadata": {},
   "outputs": [],
   "source": [
    "lineChartMultiple = [trace0, trace1]"
   ]
  },
  {
   "cell_type": "code",
   "execution_count": 116,
   "metadata": {},
   "outputs": [],
   "source": [
    "lineChartMultipleLayout = go.Layout(title = 'Average Home and Away Goals vs Year')"
   ]
  },
  {
   "cell_type": "code",
   "execution_count": 117,
   "metadata": {},
   "outputs": [
    {
     "name": "stderr",
     "output_type": "stream",
     "text": [
      "C:\\Users\\Karan.Arya\\AppData\\Local\\Continuum\\anaconda3\\envs\\py36\\lib\\site-packages\\plotly\\offline\\offline.py:635: UserWarning:\n",
      "\n",
      "Your filename `../output/lineChartMultipleColumns_2` didn't end with .html. Adding .html to the end of your file.\n",
      "\n"
     ]
    },
    {
     "data": {
      "text/plain": [
       "'file://C:\\\\Users\\\\Karan.Arya\\\\OneDrive - Wolters Kluwer\\\\Karan\\\\Tutorials\\\\plotly\\\\output\\\\lineChartMultipleColumns_2.html'"
      ]
     },
     "execution_count": 117,
     "metadata": {},
     "output_type": "execute_result"
    }
   ],
   "source": [
    "lineFigureMultiple = go.Figure(data = lineChartMultiple, layout = lineChartMultipleLayout)\n",
    "pyo.plot(lineFigureMultiple, filename = '../output/lineChartMultipleColumns_2')"
   ]
  },
  {
   "cell_type": "markdown",
   "metadata": {},
   "source": [
    "# Automate Multiple Lines on Line Chart"
   ]
  },
  {
   "cell_type": "code",
   "execution_count": 118,
   "metadata": {},
   "outputs": [],
   "source": [
    "fifa_goals = pd.pivot_table(fifa, values = ['Home Team Goals', 'Away Team Goals'], columns = 'Year', aggfunc = 'mean')"
   ]
  },
  {
   "cell_type": "code",
   "execution_count": 119,
   "metadata": {},
   "outputs": [
    {
     "data": {
      "text/html": [
       "<div>\n",
       "<style scoped>\n",
       "    .dataframe tbody tr th:only-of-type {\n",
       "        vertical-align: middle;\n",
       "    }\n",
       "\n",
       "    .dataframe tbody tr th {\n",
       "        vertical-align: top;\n",
       "    }\n",
       "\n",
       "    .dataframe thead th {\n",
       "        text-align: right;\n",
       "    }\n",
       "</style>\n",
       "<table border=\"1\" class=\"dataframe\">\n",
       "  <thead>\n",
       "    <tr style=\"text-align: right;\">\n",
       "      <th>Year</th>\n",
       "      <th>1930.0</th>\n",
       "      <th>1934.0</th>\n",
       "      <th>1938.0</th>\n",
       "      <th>1950.0</th>\n",
       "      <th>1954.0</th>\n",
       "      <th>1958.0</th>\n",
       "      <th>1962.0</th>\n",
       "      <th>1966.0</th>\n",
       "      <th>1970.0</th>\n",
       "      <th>1974.0</th>\n",
       "      <th>1978.0</th>\n",
       "      <th>1982.0</th>\n",
       "      <th>1986.0</th>\n",
       "      <th>1990.0</th>\n",
       "      <th>1994.0</th>\n",
       "      <th>1998.0</th>\n",
       "      <th>2002.0</th>\n",
       "      <th>2006.0</th>\n",
       "      <th>2010.0</th>\n",
       "      <th>2014.0</th>\n",
       "    </tr>\n",
       "  </thead>\n",
       "  <tbody>\n",
       "    <tr>\n",
       "      <th>Away Team Goals</th>\n",
       "      <td>0.611111</td>\n",
       "      <td>1.294118</td>\n",
       "      <td>1.277778</td>\n",
       "      <td>0.863636</td>\n",
       "      <td>1.192308</td>\n",
       "      <td>1.085714</td>\n",
       "      <td>0.62500</td>\n",
       "      <td>0.62500</td>\n",
       "      <td>0.71875</td>\n",
       "      <td>1.210526</td>\n",
       "      <td>0.605263</td>\n",
       "      <td>0.942308</td>\n",
       "      <td>1.115385</td>\n",
       "      <td>0.923077</td>\n",
       "      <td>1.115385</td>\n",
       "      <td>1.140625</td>\n",
       "      <td>1.125000</td>\n",
       "      <td>0.953125</td>\n",
       "      <td>1.078125</td>\n",
       "      <td>1.3375</td>\n",
       "    </tr>\n",
       "    <tr>\n",
       "      <th>Home Team Goals</th>\n",
       "      <td>3.277778</td>\n",
       "      <td>2.823529</td>\n",
       "      <td>3.388889</td>\n",
       "      <td>3.136364</td>\n",
       "      <td>4.192308</td>\n",
       "      <td>2.514286</td>\n",
       "      <td>2.15625</td>\n",
       "      <td>2.15625</td>\n",
       "      <td>2.25000</td>\n",
       "      <td>1.342105</td>\n",
       "      <td>2.078947</td>\n",
       "      <td>1.865385</td>\n",
       "      <td>1.423077</td>\n",
       "      <td>1.288462</td>\n",
       "      <td>1.596154</td>\n",
       "      <td>1.531250</td>\n",
       "      <td>1.390625</td>\n",
       "      <td>1.343750</td>\n",
       "      <td>1.187500</td>\n",
       "      <td>1.2375</td>\n",
       "    </tr>\n",
       "  </tbody>\n",
       "</table>\n",
       "</div>"
      ],
      "text/plain": [
       "Year               1930.0    1934.0    1938.0    1950.0    1954.0    1958.0  \\\n",
       "Away Team Goals  0.611111  1.294118  1.277778  0.863636  1.192308  1.085714   \n",
       "Home Team Goals  3.277778  2.823529  3.388889  3.136364  4.192308  2.514286   \n",
       "\n",
       "Year              1962.0   1966.0   1970.0    1974.0    1978.0    1982.0  \\\n",
       "Away Team Goals  0.62500  0.62500  0.71875  1.210526  0.605263  0.942308   \n",
       "Home Team Goals  2.15625  2.15625  2.25000  1.342105  2.078947  1.865385   \n",
       "\n",
       "Year               1986.0    1990.0    1994.0    1998.0    2002.0    2006.0  \\\n",
       "Away Team Goals  1.115385  0.923077  1.115385  1.140625  1.125000  0.953125   \n",
       "Home Team Goals  1.423077  1.288462  1.596154  1.531250  1.390625  1.343750   \n",
       "\n",
       "Year               2010.0  2014.0  \n",
       "Away Team Goals  1.078125  1.3375  \n",
       "Home Team Goals  1.187500  1.2375  "
      ]
     },
     "execution_count": 119,
     "metadata": {},
     "output_type": "execute_result"
    }
   ],
   "source": [
    "fifa_goals.head()"
   ]
  },
  {
   "cell_type": "code",
   "execution_count": 122,
   "metadata": {},
   "outputs": [],
   "source": [
    "traces = [go.Scatter(\n",
    "    x = fifa_goals.columns,\n",
    "    y = fifa_goals.loc[rowName],\n",
    "    mode = 'markers+lines',\n",
    "    name = rowName\n",
    ") for rowName in fifa_goals.index]"
   ]
  },
  {
   "cell_type": "code",
   "execution_count": 123,
   "metadata": {},
   "outputs": [],
   "source": [
    "lineChartMultipleLayout = go.Layout(title = 'Average Home and Away Goals vs Year')"
   ]
  },
  {
   "cell_type": "code",
   "execution_count": 124,
   "metadata": {},
   "outputs": [
    {
     "name": "stderr",
     "output_type": "stream",
     "text": [
      "C:\\Users\\Karan.Arya\\AppData\\Local\\Continuum\\anaconda3\\envs\\py36\\lib\\site-packages\\plotly\\offline\\offline.py:635: UserWarning:\n",
      "\n",
      "Your filename `../output/lineChartMultipleColumnsAutomated` didn't end with .html. Adding .html to the end of your file.\n",
      "\n"
     ]
    },
    {
     "data": {
      "text/plain": [
       "'file://C:\\\\Users\\\\Karan.Arya\\\\OneDrive - Wolters Kluwer\\\\Karan\\\\Tutorials\\\\plotly\\\\output\\\\lineChartMultipleColumnsAutomated.html'"
      ]
     },
     "execution_count": 124,
     "metadata": {},
     "output_type": "execute_result"
    }
   ],
   "source": [
    "lineFigureMultipleAutomated = go.Figure(data = traces, layout = lineChartMultipleLayout)\n",
    "pyo.plot(lineFigureMultipleAutomated, filename = '../output/lineChartMultipleColumnsAutomated')"
   ]
  },
  {
   "cell_type": "markdown",
   "metadata": {},
   "source": [
    "# Combination of Bar and Line Charts"
   ]
  },
  {
   "cell_type": "code",
   "execution_count": 140,
   "metadata": {},
   "outputs": [],
   "source": [
    "trace0 = go.Bar(\n",
    "    x = fifa_home_away_goals.index,\n",
    "    y = fifa_home_away_goals['Away Team Goals'],\n",
    "    name = 'Away Goals'\n",
    ")\n",
    "\n",
    "trace1 = go.Scatter(\n",
    "    x = fifa_home_away_goals.index,\n",
    "    y = fifa_home_away_goals['Home Team Goals'],\n",
    "    mode = 'markers+lines',\n",
    "    name = 'Home Goals'\n",
    ")"
   ]
  },
  {
   "cell_type": "code",
   "execution_count": 141,
   "metadata": {},
   "outputs": [],
   "source": [
    "comboChartMultiple = [trace0, trace1]"
   ]
  },
  {
   "cell_type": "code",
   "execution_count": 142,
   "metadata": {},
   "outputs": [],
   "source": [
    "comboChartMultipleLayout = go.Layout(title = 'Average Home and Away Goals vs Year')"
   ]
  },
  {
   "cell_type": "code",
   "execution_count": 144,
   "metadata": {},
   "outputs": [
    {
     "name": "stderr",
     "output_type": "stream",
     "text": [
      "C:\\Users\\Karan.Arya\\AppData\\Local\\Continuum\\anaconda3\\envs\\py36\\lib\\site-packages\\plotly\\offline\\offline.py:635: UserWarning:\n",
      "\n",
      "Your filename `../output/comboBarLineChartMultiple` didn't end with .html. Adding .html to the end of your file.\n",
      "\n"
     ]
    },
    {
     "data": {
      "text/plain": [
       "'file://C:\\\\Users\\\\Karan.Arya\\\\OneDrive - Wolters Kluwer\\\\Karan\\\\Tutorials\\\\plotly\\\\output\\\\comboBarLineChartMultiple.html'"
      ]
     },
     "execution_count": 144,
     "metadata": {},
     "output_type": "execute_result"
    }
   ],
   "source": [
    "comboFigureMultiple = go.Figure(data = comboChartMultiple, layout = comboChartMultipleLayout)\n",
    "pyo.plot(comboFigureMultiple, filename = '../output/comboBarLineChartMultiple')"
   ]
  },
  {
   "cell_type": "markdown",
   "metadata": {},
   "source": [
    "# Customize Colors in Charts"
   ]
  },
  {
   "cell_type": "code",
   "execution_count": 149,
   "metadata": {},
   "outputs": [],
   "source": [
    "scatterPlot = [go.Scatter(\n",
    "    x = orders_sf.Sales,\n",
    "    y = orders_sf.Profit,\n",
    "    mode = 'markers',\n",
    "    \n",
    "    # marker parameter is optional\n",
    "    marker = {'size': 14,\n",
    "             'color': 'rgb(100, 100, 100)',\n",
    "             'symbol': 'square',\n",
    "             'line': {\n",
    "                 'width': 2\n",
    "             }}\n",
    "    )]"
   ]
  },
  {
   "cell_type": "code",
   "execution_count": 150,
   "metadata": {},
   "outputs": [
    {
     "name": "stderr",
     "output_type": "stream",
     "text": [
      "C:\\Users\\Karan.Arya\\AppData\\Local\\Continuum\\anaconda3\\envs\\py36\\lib\\site-packages\\plotly\\offline\\offline.py:635: UserWarning:\n",
      "\n",
      "Your filename `../output/scatterChartColorCustomization` didn't end with .html. Adding .html to the end of your file.\n",
      "\n"
     ]
    },
    {
     "data": {
      "text/plain": [
       "'file://C:\\\\Users\\\\Karan.Arya\\\\OneDrive - Wolters Kluwer\\\\Karan\\\\Tutorials\\\\plotly\\\\output\\\\scatterChartColorCustomization.html'"
      ]
     },
     "execution_count": 150,
     "metadata": {},
     "output_type": "execute_result"
    }
   ],
   "source": [
    "pyo.plot(scatterPlot, filename = '../output/scatterChartColorCustomization')"
   ]
  },
  {
   "cell_type": "markdown",
   "metadata": {},
   "source": [
    "# Bubble Chart"
   ]
  },
  {
   "cell_type": "code",
   "execution_count": 151,
   "metadata": {},
   "outputs": [],
   "source": [
    "orders = pd.read_excel('../data/sales.xls')"
   ]
  },
  {
   "cell_type": "code",
   "execution_count": 154,
   "metadata": {},
   "outputs": [],
   "source": [
    "bubbleChart = [go.Scatter(\n",
    "    x = orders['Sales'],\n",
    "    y = orders['Profit'],\n",
    "    text = orders['Customer Name'],\n",
    "    mode = 'markers',\n",
    "    marker = {'size': orders['Discount']*100}\n",
    ")]"
   ]
  },
  {
   "cell_type": "code",
   "execution_count": 153,
   "metadata": {},
   "outputs": [],
   "source": [
    "bubbleLayout = go.Layout(\n",
    "    title = 'Sales vs Profit',\n",
    "    xaxis = {'title': 'Sales'},\n",
    "    yaxis = {'title': 'Profit'},\n",
    "    hovermode = 'closest'\n",
    ")"
   ]
  },
  {
   "cell_type": "code",
   "execution_count": 156,
   "metadata": {},
   "outputs": [
    {
     "name": "stderr",
     "output_type": "stream",
     "text": [
      "C:\\Users\\Karan.Arya\\AppData\\Local\\Continuum\\anaconda3\\envs\\py36\\lib\\site-packages\\plotly\\offline\\offline.py:635: UserWarning:\n",
      "\n",
      "Your filename `../output/bubbleChart` didn't end with .html. Adding .html to the end of your file.\n",
      "\n"
     ]
    },
    {
     "data": {
      "text/plain": [
       "'file://C:\\\\Users\\\\Karan.Arya\\\\OneDrive - Wolters Kluwer\\\\Karan\\\\Tutorials\\\\plotly\\\\output\\\\bubbleChart.html'"
      ]
     },
     "execution_count": 156,
     "metadata": {},
     "output_type": "execute_result"
    }
   ],
   "source": [
    "bubbleFigure = go.Figure(data = bubbleChart, layout = bubbleLayout)\n",
    "pyo.plot(bubbleFigure, filename = '../output/bubbleChart')"
   ]
  },
  {
   "cell_type": "markdown",
   "metadata": {},
   "source": [
    "# Bubble Chart by Categories"
   ]
  },
  {
   "cell_type": "code",
   "execution_count": 157,
   "metadata": {},
   "outputs": [],
   "source": [
    "trace0 = go.Scatter(\n",
    "    x = orders['Sales'][orders['Order Priority'] == 'High'],\n",
    "    y = orders['Profit'][orders['Order Priority'] == 'High'],\n",
    "    name = 'High',\n",
    "    mode = 'markers',\n",
    "    marker = {'size': orders['Discount'][orders['Order Priority'] == 'High']*100}\n",
    ")\n",
    "\n",
    "trace1 = go.Scatter(\n",
    "    x = orders['Sales'][orders['Order Priority'] == 'Medium'],\n",
    "    y = orders['Profit'][orders['Order Priority'] == 'Medium'],\n",
    "    name = 'Medium',\n",
    "    mode = 'markers',\n",
    "    marker = {'size': orders['Discount'][orders['Order Priority'] == 'Medium']*100}\n",
    ")\n",
    "\n",
    "trace2 = go.Scatter(\n",
    "    x = orders['Sales'][orders['Order Priority'] == 'Low'],\n",
    "    y = orders['Profit'][orders['Order Priority'] == 'Low'],\n",
    "    name = 'Low',\n",
    "    mode = 'markers',\n",
    "    marker = {'size': orders['Discount'][orders['Order Priority'] == 'Low']*100}\n",
    ")"
   ]
  },
  {
   "cell_type": "code",
   "execution_count": 158,
   "metadata": {},
   "outputs": [],
   "source": [
    "bubbleChartCategories = [trace0, trace1, trace2]"
   ]
  },
  {
   "cell_type": "code",
   "execution_count": 159,
   "metadata": {},
   "outputs": [],
   "source": [
    "bubbleLayoutCategories = go.Layout(\n",
    "    title = 'Sales vs Profit',\n",
    "    xaxis = {'title': 'Sales'},\n",
    "    yaxis = {'title': 'Profit'},\n",
    "    hovermode = 'closest'\n",
    ")"
   ]
  },
  {
   "cell_type": "code",
   "execution_count": 160,
   "metadata": {},
   "outputs": [
    {
     "name": "stderr",
     "output_type": "stream",
     "text": [
      "C:\\Users\\Karan.Arya\\AppData\\Local\\Continuum\\anaconda3\\envs\\py36\\lib\\site-packages\\plotly\\offline\\offline.py:635: UserWarning:\n",
      "\n",
      "Your filename `../output/bubbleChartCategories` didn't end with .html. Adding .html to the end of your file.\n",
      "\n"
     ]
    },
    {
     "data": {
      "text/plain": [
       "'file://C:\\\\Users\\\\Karan.Arya\\\\OneDrive - Wolters Kluwer\\\\Karan\\\\Tutorials\\\\plotly\\\\output\\\\bubbleChartCategories.html'"
      ]
     },
     "execution_count": 160,
     "metadata": {},
     "output_type": "execute_result"
    }
   ],
   "source": [
    "bubbleFigureCategories = go.Figure(data = bubbleChartCategories, layout = bubbleLayoutCategories)\n",
    "pyo.plot(bubbleFigureCategories, filename = '../output/bubbleChartCategories')"
   ]
  },
  {
   "cell_type": "markdown",
   "metadata": {},
   "source": [
    "# Histogram"
   ]
  },
  {
   "cell_type": "code",
   "execution_count": 161,
   "metadata": {},
   "outputs": [],
   "source": [
    "trace0 = go.Histogram(\n",
    "    x = orders['Sales'],\n",
    "    name = 'Sales',\n",
    "    opacity = 0.5,\n",
    ")\n",
    "\n",
    "trace1 = go.Histogram(\n",
    "    x = orders['Profit'],\n",
    "    name = 'Profit',\n",
    "    opacity = 0.5,\n",
    ")"
   ]
  },
  {
   "cell_type": "code",
   "execution_count": 162,
   "metadata": {},
   "outputs": [
    {
     "name": "stderr",
     "output_type": "stream",
     "text": [
      "C:\\Users\\Karan.Arya\\AppData\\Local\\Continuum\\anaconda3\\envs\\py36\\lib\\site-packages\\plotly\\offline\\offline.py:635: UserWarning:\n",
      "\n",
      "Your filename `../output/histogram` didn't end with .html. Adding .html to the end of your file.\n",
      "\n"
     ]
    },
    {
     "data": {
      "text/plain": [
       "'file://C:\\\\Users\\\\Karan.Arya\\\\OneDrive - Wolters Kluwer\\\\Karan\\\\Tutorials\\\\plotly\\\\output\\\\histogram.html'"
      ]
     },
     "execution_count": 162,
     "metadata": {},
     "output_type": "execute_result"
    }
   ],
   "source": [
    "histogram = [trace0, trace1]\n",
    "histogramLayout = go.Layout(title = 'Saves vs Profit Distribution')\n",
    "histogramFigure = go.Figure(data = histogram, layout = histogramLayout)\n",
    "pyo.plot(histogramFigure, filename = '../output/histogram')"
   ]
  },
  {
   "cell_type": "markdown",
   "metadata": {},
   "source": [
    "# Box Plot"
   ]
  },
  {
   "cell_type": "code",
   "execution_count": 163,
   "metadata": {},
   "outputs": [
    {
     "data": {
      "text/plain": [
       "Corporate         3076\n",
       "Home Office       2032\n",
       "Consumer          1649\n",
       "Small Business    1642\n",
       "Name: Customer Segment, dtype: int64"
      ]
     },
     "execution_count": 163,
     "metadata": {},
     "output_type": "execute_result"
    }
   ],
   "source": [
    "orders['Customer Segment'].value_counts()"
   ]
  },
  {
   "cell_type": "code",
   "execution_count": 164,
   "metadata": {},
   "outputs": [],
   "source": [
    "corporate = orders.Sales[orders['Customer Segment'] == 'Corporate']\n",
    "homeOffice = orders.Sales[orders['Customer Segment'] == 'Home Office']\n",
    "consumer = orders.Sales[orders['Customer Segment'] == 'Consumer']\n",
    "smallBusiness = orders.Sales[orders['Customer Segment'] == 'Small Business']"
   ]
  },
  {
   "cell_type": "code",
   "execution_count": 169,
   "metadata": {},
   "outputs": [],
   "source": [
    "trace0 = go.Box(\n",
    "    y = corporate,\n",
    "    name = 'Corporate'\n",
    ")\n",
    "\n",
    "trace1 = go.Box(\n",
    "    y = homeOffice,\n",
    "    name = 'Home Office'\n",
    ")\n",
    "\n",
    "trace2 = go.Box(\n",
    "    y = consumer,\n",
    "    name = 'Consumer'\n",
    ")\n",
    "\n",
    "trace3 = go.Box(\n",
    "    y = smallBusiness,\n",
    "    name = 'Small Business'\n",
    ")"
   ]
  },
  {
   "cell_type": "code",
   "execution_count": 170,
   "metadata": {},
   "outputs": [
    {
     "name": "stderr",
     "output_type": "stream",
     "text": [
      "C:\\Users\\Karan.Arya\\AppData\\Local\\Continuum\\anaconda3\\envs\\py36\\lib\\site-packages\\plotly\\offline\\offline.py:635: UserWarning:\n",
      "\n",
      "Your filename `../output/boxPlot` didn't end with .html. Adding .html to the end of your file.\n",
      "\n"
     ]
    },
    {
     "data": {
      "text/plain": [
       "'file://C:\\\\Users\\\\Karan.Arya\\\\OneDrive - Wolters Kluwer\\\\Karan\\\\Tutorials\\\\plotly\\\\output\\\\boxPlot.html'"
      ]
     },
     "execution_count": 170,
     "metadata": {},
     "output_type": "execute_result"
    }
   ],
   "source": [
    "boxPlot = [trace0, trace1, trace2, trace3]\n",
    "boxLayout = go.Layout(title = 'Distribution of Sales by Customer Segment')\n",
    "boxFigure = go.Figure(data = boxPlot, layout = boxLayout)\n",
    "pyo.plot(boxFigure, filename = '../output/boxPlot')"
   ]
  },
  {
   "cell_type": "markdown",
   "metadata": {},
   "source": [
    "# Scatter Plot Matrix"
   ]
  },
  {
   "cell_type": "code",
   "execution_count": 171,
   "metadata": {},
   "outputs": [],
   "source": [
    "import plotly.figure_factory as ff"
   ]
  },
  {
   "cell_type": "code",
   "execution_count": 172,
   "metadata": {},
   "outputs": [],
   "source": [
    "orders_data = orders[['Sales', 'Profit', 'Discount']]"
   ]
  },
  {
   "cell_type": "code",
   "execution_count": 174,
   "metadata": {},
   "outputs": [
    {
     "data": {
      "text/html": [
       "<div>\n",
       "<style scoped>\n",
       "    .dataframe tbody tr th:only-of-type {\n",
       "        vertical-align: middle;\n",
       "    }\n",
       "\n",
       "    .dataframe tbody tr th {\n",
       "        vertical-align: top;\n",
       "    }\n",
       "\n",
       "    .dataframe thead th {\n",
       "        text-align: right;\n",
       "    }\n",
       "</style>\n",
       "<table border=\"1\" class=\"dataframe\">\n",
       "  <thead>\n",
       "    <tr style=\"text-align: right;\">\n",
       "      <th></th>\n",
       "      <th>Sales</th>\n",
       "      <th>Profit</th>\n",
       "      <th>Discount</th>\n",
       "    </tr>\n",
       "  </thead>\n",
       "  <tbody>\n",
       "    <tr>\n",
       "      <th>0</th>\n",
       "      <td>261.54</td>\n",
       "      <td>-213.2500</td>\n",
       "      <td>0.04</td>\n",
       "    </tr>\n",
       "    <tr>\n",
       "      <th>1</th>\n",
       "      <td>10123.02</td>\n",
       "      <td>457.8100</td>\n",
       "      <td>0.07</td>\n",
       "    </tr>\n",
       "    <tr>\n",
       "      <th>2</th>\n",
       "      <td>244.57</td>\n",
       "      <td>46.7075</td>\n",
       "      <td>0.01</td>\n",
       "    </tr>\n",
       "  </tbody>\n",
       "</table>\n",
       "</div>"
      ],
      "text/plain": [
       "      Sales    Profit  Discount\n",
       "0    261.54 -213.2500      0.04\n",
       "1  10123.02  457.8100      0.07\n",
       "2    244.57   46.7075      0.01"
      ]
     },
     "execution_count": 174,
     "metadata": {},
     "output_type": "execute_result"
    }
   ],
   "source": [
    "orders_data.head(3)"
   ]
  },
  {
   "cell_type": "code",
   "execution_count": 175,
   "metadata": {},
   "outputs": [],
   "source": [
    "orders_data['index'] = np.arange(1, len(orders_data) + 1)"
   ]
  },
  {
   "cell_type": "code",
   "execution_count": 176,
   "metadata": {},
   "outputs": [
    {
     "data": {
      "text/html": [
       "<div>\n",
       "<style scoped>\n",
       "    .dataframe tbody tr th:only-of-type {\n",
       "        vertical-align: middle;\n",
       "    }\n",
       "\n",
       "    .dataframe tbody tr th {\n",
       "        vertical-align: top;\n",
       "    }\n",
       "\n",
       "    .dataframe thead th {\n",
       "        text-align: right;\n",
       "    }\n",
       "</style>\n",
       "<table border=\"1\" class=\"dataframe\">\n",
       "  <thead>\n",
       "    <tr style=\"text-align: right;\">\n",
       "      <th></th>\n",
       "      <th>Sales</th>\n",
       "      <th>Profit</th>\n",
       "      <th>Discount</th>\n",
       "      <th>index</th>\n",
       "    </tr>\n",
       "  </thead>\n",
       "  <tbody>\n",
       "    <tr>\n",
       "      <th>0</th>\n",
       "      <td>261.54</td>\n",
       "      <td>-213.2500</td>\n",
       "      <td>0.04</td>\n",
       "      <td>1</td>\n",
       "    </tr>\n",
       "    <tr>\n",
       "      <th>1</th>\n",
       "      <td>10123.02</td>\n",
       "      <td>457.8100</td>\n",
       "      <td>0.07</td>\n",
       "      <td>2</td>\n",
       "    </tr>\n",
       "    <tr>\n",
       "      <th>2</th>\n",
       "      <td>244.57</td>\n",
       "      <td>46.7075</td>\n",
       "      <td>0.01</td>\n",
       "      <td>3</td>\n",
       "    </tr>\n",
       "  </tbody>\n",
       "</table>\n",
       "</div>"
      ],
      "text/plain": [
       "      Sales    Profit  Discount  index\n",
       "0    261.54 -213.2500      0.04      1\n",
       "1  10123.02  457.8100      0.07      2\n",
       "2    244.57   46.7075      0.01      3"
      ]
     },
     "execution_count": 176,
     "metadata": {},
     "output_type": "execute_result"
    }
   ],
   "source": [
    "orders_data.head(3)"
   ]
  },
  {
   "cell_type": "code",
   "execution_count": 177,
   "metadata": {},
   "outputs": [],
   "source": [
    "scatterPlotMatrix = ff.create_scatterplotmatrix(orders_data, diag = 'box', index = 'index', colormap = 'Portland', colormap_type = 'cat')"
   ]
  },
  {
   "cell_type": "code",
   "execution_count": 178,
   "metadata": {},
   "outputs": [
    {
     "name": "stderr",
     "output_type": "stream",
     "text": [
      "C:\\Users\\Karan.Arya\\AppData\\Local\\Continuum\\anaconda3\\envs\\py36\\lib\\site-packages\\plotly\\offline\\offline.py:635: UserWarning:\n",
      "\n",
      "Your filename `../output/scatterPlotMatrix` didn't end with .html. Adding .html to the end of your file.\n",
      "\n"
     ]
    },
    {
     "data": {
      "text/plain": [
       "'file://C:\\\\Users\\\\Karan.Arya\\\\OneDrive - Wolters Kluwer\\\\Karan\\\\Tutorials\\\\plotly\\\\output\\\\scatterPlotMatrix.html'"
      ]
     },
     "execution_count": 178,
     "metadata": {},
     "output_type": "execute_result"
    }
   ],
   "source": [
    "pyo.plot(scatterPlotMatrix, filename = '../output/scatterPlotMatrix')"
   ]
  },
  {
   "cell_type": "markdown",
   "metadata": {},
   "source": [
    "# Add Dimension to Scatter Plot Matrix"
   ]
  },
  {
   "cell_type": "code",
   "execution_count": 179,
   "metadata": {},
   "outputs": [],
   "source": [
    "orders_data = orders[['Sales', 'Profit', 'Discount', 'Order Priority']]"
   ]
  },
  {
   "cell_type": "code",
   "execution_count": 180,
   "metadata": {},
   "outputs": [
    {
     "data": {
      "text/html": [
       "<div>\n",
       "<style scoped>\n",
       "    .dataframe tbody tr th:only-of-type {\n",
       "        vertical-align: middle;\n",
       "    }\n",
       "\n",
       "    .dataframe tbody tr th {\n",
       "        vertical-align: top;\n",
       "    }\n",
       "\n",
       "    .dataframe thead th {\n",
       "        text-align: right;\n",
       "    }\n",
       "</style>\n",
       "<table border=\"1\" class=\"dataframe\">\n",
       "  <thead>\n",
       "    <tr style=\"text-align: right;\">\n",
       "      <th></th>\n",
       "      <th>Sales</th>\n",
       "      <th>Profit</th>\n",
       "      <th>Discount</th>\n",
       "      <th>Order Priority</th>\n",
       "    </tr>\n",
       "  </thead>\n",
       "  <tbody>\n",
       "    <tr>\n",
       "      <th>0</th>\n",
       "      <td>261.54</td>\n",
       "      <td>-213.2500</td>\n",
       "      <td>0.04</td>\n",
       "      <td>Low</td>\n",
       "    </tr>\n",
       "    <tr>\n",
       "      <th>1</th>\n",
       "      <td>10123.02</td>\n",
       "      <td>457.8100</td>\n",
       "      <td>0.07</td>\n",
       "      <td>High</td>\n",
       "    </tr>\n",
       "    <tr>\n",
       "      <th>2</th>\n",
       "      <td>244.57</td>\n",
       "      <td>46.7075</td>\n",
       "      <td>0.01</td>\n",
       "      <td>High</td>\n",
       "    </tr>\n",
       "  </tbody>\n",
       "</table>\n",
       "</div>"
      ],
      "text/plain": [
       "      Sales    Profit  Discount Order Priority\n",
       "0    261.54 -213.2500      0.04            Low\n",
       "1  10123.02  457.8100      0.07           High\n",
       "2    244.57   46.7075      0.01           High"
      ]
     },
     "execution_count": 180,
     "metadata": {},
     "output_type": "execute_result"
    }
   ],
   "source": [
    "orders_data.head(3)"
   ]
  },
  {
   "cell_type": "code",
   "execution_count": 181,
   "metadata": {},
   "outputs": [],
   "source": [
    "orders_data['index'] = np.arange(1, len(orders_data) + 1)"
   ]
  },
  {
   "cell_type": "code",
   "execution_count": 182,
   "metadata": {},
   "outputs": [
    {
     "data": {
      "text/html": [
       "<div>\n",
       "<style scoped>\n",
       "    .dataframe tbody tr th:only-of-type {\n",
       "        vertical-align: middle;\n",
       "    }\n",
       "\n",
       "    .dataframe tbody tr th {\n",
       "        vertical-align: top;\n",
       "    }\n",
       "\n",
       "    .dataframe thead th {\n",
       "        text-align: right;\n",
       "    }\n",
       "</style>\n",
       "<table border=\"1\" class=\"dataframe\">\n",
       "  <thead>\n",
       "    <tr style=\"text-align: right;\">\n",
       "      <th></th>\n",
       "      <th>Sales</th>\n",
       "      <th>Profit</th>\n",
       "      <th>Discount</th>\n",
       "      <th>Order Priority</th>\n",
       "      <th>index</th>\n",
       "    </tr>\n",
       "  </thead>\n",
       "  <tbody>\n",
       "    <tr>\n",
       "      <th>0</th>\n",
       "      <td>261.54</td>\n",
       "      <td>-213.2500</td>\n",
       "      <td>0.04</td>\n",
       "      <td>Low</td>\n",
       "      <td>1</td>\n",
       "    </tr>\n",
       "    <tr>\n",
       "      <th>1</th>\n",
       "      <td>10123.02</td>\n",
       "      <td>457.8100</td>\n",
       "      <td>0.07</td>\n",
       "      <td>High</td>\n",
       "      <td>2</td>\n",
       "    </tr>\n",
       "    <tr>\n",
       "      <th>2</th>\n",
       "      <td>244.57</td>\n",
       "      <td>46.7075</td>\n",
       "      <td>0.01</td>\n",
       "      <td>High</td>\n",
       "      <td>3</td>\n",
       "    </tr>\n",
       "  </tbody>\n",
       "</table>\n",
       "</div>"
      ],
      "text/plain": [
       "      Sales    Profit  Discount Order Priority  index\n",
       "0    261.54 -213.2500      0.04            Low      1\n",
       "1  10123.02  457.8100      0.07           High      2\n",
       "2    244.57   46.7075      0.01           High      3"
      ]
     },
     "execution_count": 182,
     "metadata": {},
     "output_type": "execute_result"
    }
   ],
   "source": [
    "orders_data.head(3)"
   ]
  },
  {
   "cell_type": "code",
   "execution_count": 184,
   "metadata": {},
   "outputs": [],
   "source": [
    "scatterPlotMatrixDimension = ff.create_scatterplotmatrix(orders_data, diag = 'box', index = 'index', colormap = 'Portland', colormap_type = 'cat')"
   ]
  },
  {
   "cell_type": "code",
   "execution_count": 185,
   "metadata": {},
   "outputs": [
    {
     "name": "stderr",
     "output_type": "stream",
     "text": [
      "C:\\Users\\Karan.Arya\\AppData\\Local\\Continuum\\anaconda3\\envs\\py36\\lib\\site-packages\\plotly\\offline\\offline.py:635: UserWarning:\n",
      "\n",
      "Your filename `../output/scatterPlotMatrixDimension` didn't end with .html. Adding .html to the end of your file.\n",
      "\n"
     ]
    },
    {
     "data": {
      "text/plain": [
       "'file://C:\\\\Users\\\\Karan.Arya\\\\OneDrive - Wolters Kluwer\\\\Karan\\\\Tutorials\\\\plotly\\\\output\\\\scatterPlotMatrixDimension.html'"
      ]
     },
     "execution_count": 185,
     "metadata": {},
     "output_type": "execute_result"
    }
   ],
   "source": [
    "pyo.plot(scatterPlotMatrixDimension, filename = '../output/scatterPlotMatrixDimension')"
   ]
  }
 ],
 "metadata": {
  "kernelspec": {
   "display_name": "Python 3",
   "language": "python",
   "name": "python3"
  },
  "language_info": {
   "codemirror_mode": {
    "name": "ipython",
    "version": 3
   },
   "file_extension": ".py",
   "mimetype": "text/x-python",
   "name": "python",
   "nbconvert_exporter": "python",
   "pygments_lexer": "ipython3",
   "version": "3.6.6"
  },
  "toc": {
   "base_numbering": 1,
   "nav_menu": {},
   "number_sections": true,
   "sideBar": true,
   "skip_h1_title": false,
   "title_cell": "Table of Contents",
   "title_sidebar": "Contents",
   "toc_cell": false,
   "toc_position": {},
   "toc_section_display": true,
   "toc_window_display": true
  },
  "varInspector": {
   "cols": {
    "lenName": 16,
    "lenType": 16,
    "lenVar": 40
   },
   "kernels_config": {
    "python": {
     "delete_cmd_postfix": "",
     "delete_cmd_prefix": "del ",
     "library": "var_list.py",
     "varRefreshCmd": "print(var_dic_list())"
    },
    "r": {
     "delete_cmd_postfix": ") ",
     "delete_cmd_prefix": "rm(",
     "library": "var_list.r",
     "varRefreshCmd": "cat(var_dic_list()) "
    }
   },
   "types_to_exclude": [
    "module",
    "function",
    "builtin_function_or_method",
    "instance",
    "_Feature"
   ],
   "window_display": false
  }
 },
 "nbformat": 4,
 "nbformat_minor": 2
}
